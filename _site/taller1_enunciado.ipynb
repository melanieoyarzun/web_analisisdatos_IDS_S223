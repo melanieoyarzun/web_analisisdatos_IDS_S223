{
  "cells": [
    {
      "cell_type": "markdown",
      "metadata": {},
      "source": [
        "# Taller 1: Introducción al Análisis de Regresión\n",
        "\n",
        "Curso: Análisis de datos\n",
        "\n",
        "Phd (c) Melanie Oyarzún - <melanie.oyarzun@udd.cl> (Magíster en Data\n",
        "Science - Universidad del Desarrollo)\n",
        "\n",
        "## Instrucciones:\n",
        "\n",
        "### Pregunta 1 - Bajando y formateando datos del Banco Mundial\n",
        "\n",
        "Replique el ejemplo práctico de importar datos desde la API del Banco\n",
        "Mundial y empezar la base para su análisis de series de tiempo.\n",
        "\n",
        "Importe usted la serie de GDP total Y Percapita para otro país serie\n",
        "desde la API del Banco mundial, muestre sus principales características\n",
        "y realice un grafico.\n",
        "\n",
        "¿pareciera haber tendencias?\n",
        "\n",
        "### Pregunta 2 - Investigando sobre países:\n",
        "\n",
        "Considere que tenemos los datos del banco mundial, del país que\n",
        "selecciono anteriormente, y desea aprender sobre alguna caracterpistica\n",
        "de dicho pais en el periodo.\n",
        "\n",
        "Escriba una pregunta de investigación que se pueda responder con los\n",
        "datos disponibles. ¿Cómo definiria la variable aleatoria relevante? ¿Qué\n",
        "hipótesis podria responder su pregunta?\n",
        "\n",
        "### Pregunta 3 - Ejemplo AB test en Marketing:\n",
        "\n",
        "#### Enunciado\n",
        "\n",
        "Imaginemos que trabajamos en una empresa de e-commerce que vende\n",
        "productos electrónicos y queremos aumentar las ventas en una línea de\n",
        "productos específica, como teléfonos móviles.\n",
        "\n",
        "Para ello, decidimos utilizar una promoción de ventas basada en una\n",
        "ruleta lúdica que ofrecerá descuentos a los clientes que la utilicen.\n",
        "\n",
        "Para implementar la promoción, primero seleccionamos aleatoriamente un\n",
        "grupo de clientes y les enviamos un correo electrónico con un enlace a\n",
        "la ruleta lúdica. Al hacer clic en el enlace, los clientes son\n",
        "redirigidos a una página en la que pueden girar la ruleta y ganar un\n",
        "descuento en su próxima compra.\n",
        "\n",
        "Vamos a pensar que los clientes son asignados a uno de los siguientes\n",
        "grupos: - Control: no les da una promoción (mala suerte, intentalo otra\n",
        "vez) - Tratamiento 1: 20% de descuento en el producto - Tratamiento 2:\n",
        "Un complemento gratuito (carcasa) que tiene un costo para la empresa\n",
        "similar al descuento.\n",
        "\n",
        "#### Creación de los datos\n",
        "\n",
        "Como nuestro caso es un ejemplo ficticio, vamos a crear los datos.\n",
        "\n",
        "Este código creará un conjunto de datos con 400 observaciones (200 en el\n",
        "grupo de control y 200 en el grupo de tratamiento), donde se simulan\n",
        "lascompras de cada usuario."
      ],
      "id": "0f5eb912-9bd5-46f4-8008-2929d7e753cc"
    },
    {
      "cell_type": "code",
      "execution_count": 1,
      "metadata": {},
      "outputs": [
        {
          "output_type": "display_data",
          "metadata": {},
          "data": {
            "text/html": [
              "\n",
              "</div>"
            ]
          }
        }
      ],
      "source": [
        "import numpy as np\n",
        "import pandas as pd\n",
        "import random\n",
        "\n",
        "# Define una semilla para la generación de números aleatorios\n",
        "np.random.seed(123)\n",
        "random.seed(123)\n",
        "\n",
        "# Crear un vector de 200 valores aleatorios para el grupo de control\n",
        "control = np.random.choice([\"Control\"], size=200, replace=True)\n",
        "\n",
        "# Crear un vector de 200 valores aleatorios para el grupo de tratamiento\n",
        "tratamiento = np.random.choice([\"Treatment 1\", \"Treatment 2\"], size=100, replace=True, p=[0.7, 0.3])\n",
        "\n",
        "# Crear un vector de número de compras para cada grupo\n",
        "control_compras = np.random.binomial(5, 0.2, size=200)\n",
        "tratamiento1_compras = np.random.binomial(5, 0.4, size=100)\n",
        "tratamiento2_compras = np.random.binomial(5, 0.6, size=100)\n",
        "\n",
        "# Combinar los vectores en un DataFrame\n",
        "data = {\n",
        "    'grupo': np.concatenate((control, np.repeat(\"Treatment\", 200))),\n",
        "    'tipo_tratamiento': np.concatenate((np.repeat(\"Control\", 200), np.repeat([\"Treatment 1\", \"Treatment 2\"], [100, 100]))),\n",
        "    'ventas': np.concatenate((control_compras, tratamiento1_compras, tratamiento2_compras))\n",
        "}\n",
        "\n",
        "ventas_df = pd.DataFrame(data)\n",
        "\n",
        "# Verificar el DataFrame\n",
        "ventas_df.head(5)"
      ],
      "id": "c0bdf3e1"
    },
    {
      "cell_type": "markdown",
      "metadata": {},
      "source": [
        "Estudiemos si la promoción fue efectiva en estos datos. Para esto:\n",
        "\n",
        "1.  Describa los resultados de la promocion para los diferentes grupos,\n",
        "    en terminos de estadisticas descriptivas.\n",
        "2.  Compare visualmente los resultados de los diferentes grupos.\n",
        "3.  ¿Fue la promocion efectiva? Use una prueba de hipotesis para\n",
        "    analizar el grupo tratado y de control.\n",
        "4.  ¿Cual de las promociones fue más efectiva? Use una prueba ANOVA."
      ],
      "id": "c0967f50-4284-4854-9bc9-7e1b3e859d16"
    }
  ],
  "nbformat": 4,
  "nbformat_minor": 5,
  "metadata": {
    "kernelspec": {
      "name": "python3",
      "display_name": "Python 3 (ipykernel)",
      "language": "python"
    },
    "language_info": {
      "name": "python",
      "codemirror_mode": {
        "name": "ipython",
        "version": "3"
      },
      "file_extension": ".py",
      "mimetype": "text/x-python",
      "nbconvert_exporter": "python",
      "pygments_lexer": "ipython3",
      "version": "3.10.9"
    }
  }
}