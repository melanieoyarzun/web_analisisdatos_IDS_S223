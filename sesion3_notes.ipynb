{
  "cells": [
    {
      "cell_type": "raw",
      "metadata": {},
      "source": [
        "---\n",
        "institute: Magíster en Data Science - Universidad del Desarrollo\n",
        "subtitle: 'Curso: Análisis de datos'\n",
        "title: 'Sesión 3: Introducción al Análisis de Regresión'\n",
        "author: 'Phd (c) Melanie Oyarzún - [melanie.oyarzun@udd.cl](mailto:melanie.oyarzun@udd.cl)'\n",
        "format:\n",
        "  html:\n",
        "    toc: true\n",
        "    html-math-method: mathml\n",
        "    embed-resources: true\n",
        "  ipynb: default\n",
        "echo: true\n",
        "editor:\n",
        "  markdown:\n",
        "    wrap: 72\n",
        "execute:\n",
        "  keep-ipynb: true\n",
        "  freeze: auto\n",
        "code-link: true\n",
        "df-print: paged\n",
        "---"
      ],
      "id": "9b92c0ff"
    },
    {
      "cell_type": "markdown",
      "metadata": {},
      "source": [
        "# El análisis de regresión\n",
        "\n",
        "El análisis de regersión es una técnica en la cual buscamos encontrar una función que pueda describir la relación observada en los datos entre dos o mas variables.\n",
        "\n",
        "Pensemos en el caso más simple, una regresión lineal simple o univariada. Tenemos una variable que deseamos explicar o predecir (Y) como función de otra (X).\n",
        "\n",
        "Para esto, buscamos la pendiente e intercepto de una funciónla recta de la forma:\n",
        "\n",
        "  $Y = \\alpha + \\beta X$\n",
        "\n",
        "que se ajuste mejor al conjunto de datos con los que se cuenta.\n",
        "\n",
        "\n",
        "![](img/img_sesion3/gif_regresion2.gif)\n",
        "\n",
        "\n",
        "Para esto, entendemos que la variable que deseamos entender (Y, variable dependiente) se puede descomponer en dos partes: una que es sistemática o que se puede explicar directamente con una o más variables independientes (Xs o regresores) y otra que es no sistemática o error ($\\mu$ o $epsilon$) , que es aquella parte que no se puede explicar  y representa a la aleatoriedad del fenómeno.\n",
        "\n",
        "![](img/img_sesion3/gif_regresion1.gif)\n",
        "\n",
        "La parte sistemática entonces la describimos con una forma funcional, que depende de otras variables o regresores. \n",
        "\n",
        "Esta forma funcional puede ser lineal univariada, lineal múltiple o no lineal. El tipo de forma funcional, definirá el tipo de regresión de la que estemos hablando.\n",
        "\n",
        "Ventajas del análisis de regersión: es facil decsribir cuantitaivamente una rlación.\n",
        "\n",
        "Esquemáticamente, los elementos son:\n",
        "\n",
        "![](img/img_sesion3/regresion_esquema.png)\n",
        "\n",
        "## Una perspectiva histórica:\n"
      ],
      "id": "ec702e21"
    }
  ],
  "metadata": {
    "kernelspec": {
      "name": "python3",
      "language": "python",
      "display_name": "Python 3 (ipykernel)"
    }
  },
  "nbformat": 4,
  "nbformat_minor": 5
}